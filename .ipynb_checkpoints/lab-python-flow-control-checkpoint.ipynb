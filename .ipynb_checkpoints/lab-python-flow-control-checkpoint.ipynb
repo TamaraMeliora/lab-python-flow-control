{
 "cells": [
  {
   "cell_type": "markdown",
   "id": "d3bfc191-8885-42ee-b0a0-bbab867c6f9f",
   "metadata": {
    "tags": []
   },
   "source": [
    "# Lab | Flow Control"
   ]
  },
  {
   "cell_type": "markdown",
   "id": "3851fcd1-cf98-4653-9c89-e003b7ec9400",
   "metadata": {},
   "source": [
    "## Exercise: Managing Customer Orders Optimized\n",
    "\n",
    "In the last lab, you were starting an online store that sells various products. To ensure smooth operations, you developed a program that manages customer orders and inventory.\n",
    "\n",
    "You did so without using flow control. Let's go a step further and improve this code.\n",
    "\n",
    "Follow the steps below to complete the exercise:\n",
    "\n",
    "1. Look at your code from the lab data structures, and improve repeated code with loops.\n",
    "\n",
    "2. Instead of asking the user to input the name of three products that a customer wants to order, do the following:\n",
    "    \n",
    "    a. Prompt the user to enter the name of a product that a customer wants to order.\n",
    "    \n",
    "    b. Add the product name to the \"customer_orders\" set.\n",
    "    \n",
    "    c. Ask the user if they want to add another product (yes/no).\n",
    "    \n",
    "    d. Continue the loop until the user does not want to add another product.\n",
    "\n",
    "3. Instead of updating the inventory by subtracting 1 from the quantity of each product, only do it for  the products that were ordered (those in \"customer_orders\")."
   ]
  },
  {
   "cell_type": "code",
   "execution_count": 17,
   "id": "ccf3ec0e-9865-47d7-84dd-5a1f2ae5c096",
   "metadata": {},
   "outputs": [
    {
     "name": "stdin",
     "output_type": "stream",
     "text": [
      "Input the quantity of t-shirt:  5\n",
      "Input the quantity of mug:  5\n",
      "Input the quantity of hat:  5\n",
      "Input the quantity of book:  5\n",
      "Input the quantity of keychain:  5\n"
     ]
    },
    {
     "name": "stdout",
     "output_type": "stream",
     "text": [
      "Starting Inventory:\n",
      "t-shirt: 5\n",
      "mug: 5\n",
      "hat: 5\n",
      "book: 5\n",
      "keychain: 5\n"
     ]
    }
   ],
   "source": [
    "products = [\"t-shirt\", \"mug\", \"hat\", \"book\", \"keychain\"]\n",
    "\n",
    "inventory = {} \n",
    "\n",
    "\n",
    "# Use a loop to ask for product quantities\n",
    "for product in products:\n",
    "    quantity = int(input(f\"Input the quantity of {product}: \"))\n",
    "    inventory[product] = quantity\n",
    "\n",
    "# Show starting inventory\n",
    "print(\"Starting Inventory:\")\n",
    "for product, quantity in inventory.items():\n",
    "    print(f\"{product}: {quantity}\")"
   ]
  },
  {
   "cell_type": "code",
   "execution_count": 18,
   "id": "23ed8c73-17da-4c6f-ae4a-f17b659aa9a9",
   "metadata": {},
   "outputs": [
    {
     "name": "stdin",
     "output_type": "stream",
     "text": [
      "Insert product you want to order  mug\n"
     ]
    },
    {
     "name": "stdout",
     "output_type": "stream",
     "text": [
      "You ordered: mug\n"
     ]
    },
    {
     "name": "stdin",
     "output_type": "stream",
     "text": [
      "Do you want to add another product?  yes\n",
      "Insert product you want to order  hat\n"
     ]
    },
    {
     "name": "stdout",
     "output_type": "stream",
     "text": [
      "You ordered: hat\n"
     ]
    },
    {
     "name": "stdin",
     "output_type": "stream",
     "text": [
      "Do you want to add another product?  no\n"
     ]
    }
   ],
   "source": [
    "customer_orders = set()\n",
    "\n",
    "\n",
    "\n",
    "while True:\n",
    " \n",
    "    order = input(\"Insert product you want to order \").lower()\n",
    "    \n",
    "    # Проверить: есть ли товар в наличии\n",
    "    if order in inventory:\n",
    "        # Если есть — добавить в заказы\n",
    "        customer_orders.add(order)\n",
    "        print(f\"You ordered: {order}\")\n",
    "    else:\n",
    "        # Если нет — сообщить об ошибке\n",
    "        print(f\"Product {order} not found.\")\n",
    "    \n",
    "    # Спросить пользователя, хочет ли он продолжить\n",
    "    another = input(\"Do you want to add another product? \").lower()\n",
    "    if another != \"yes\":\n",
    "        break"
   ]
  },
  {
   "cell_type": "code",
   "execution_count": 21,
   "id": "78d57716-cf2a-46e7-8619-f629d840a1c2",
   "metadata": {},
   "outputs": [
    {
     "name": "stdout",
     "output_type": "stream",
     "text": [
      "\n",
      "Updated Inventory:\n",
      "t-shirt: 5\n",
      "mug: 2\n",
      "hat: 2\n",
      "book: 5\n",
      "keychain: 5\n",
      "Total products ordered: 4\n",
      "Percentage of Products Ordered: 19.047619047619047%\n"
     ]
    }
   ],
   "source": [
    "# Calculate total products ordered\n",
    "total_products_ordered = len(customer_orders)  # Number of *different* products ordered\n",
    "total_products_inventory = sum(inventory.values())\n",
    "\n",
    "# Update inventory: subtract 1 only for each product ordered\n",
    "for product in customer_orders:\n",
    "    if inventory[product] > 0:\n",
    "        inventory[product] -= 1\n",
    "    else:\n",
    "        print(f\"Warning: {product} is out of stock!\")\n",
    "\n",
    "# Show updated inventory\n",
    "print(\"\\nUpdated Inventory:\")\n",
    "for product, quantity in inventory.items():\n",
    "    print(f\"{product}: {quantity}\")\n",
    "\n",
    "# Calculate and show percentage of products ordered\n",
    "\n",
    "total_products_ordered = int(sum(inventory[product] for product in customer_orders))\n",
    "print(f\"Total products ordered: {total_products_ordered}\")\n",
    "percentage_of_products_ordered = total_products_ordered/total_products_inventory*100\n",
    "print(f\"Percentage of Products Ordered: {percentage_of_products_ordered}\"\"%\")"
   ]
  },
  {
   "cell_type": "code",
   "execution_count": null,
   "id": "9fe1a7fe-7998-442e-8bce-c5a951db54b4",
   "metadata": {},
   "outputs": [],
   "source": []
  },
  {
   "cell_type": "code",
   "execution_count": null,
   "id": "2d8a4e4e-e6e5-48ba-9adc-c9828b2b5c46",
   "metadata": {},
   "outputs": [],
   "source": []
  }
 ],
 "metadata": {
  "kernelspec": {
   "display_name": "Python 3 (ipykernel)",
   "language": "python",
   "name": "python3"
  },
  "language_info": {
   "codemirror_mode": {
    "name": "ipython",
    "version": 3
   },
   "file_extension": ".py",
   "mimetype": "text/x-python",
   "name": "python",
   "nbconvert_exporter": "python",
   "pygments_lexer": "ipython3",
   "version": "3.13.3"
  }
 },
 "nbformat": 4,
 "nbformat_minor": 5
}
